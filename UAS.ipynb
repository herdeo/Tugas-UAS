{
 "cells": [
  {
   "cell_type": "code",
   "execution_count": null,
   "id": "2c4caeef",
   "metadata": {},
   "outputs": [],
   "source": [
    "#JAWABAN NOMOR 1"
   ]
  },
  {
   "cell_type": "code",
   "execution_count": null,
   "id": "e49553a4",
   "metadata": {},
   "outputs": [],
   "source": [
    "def conv_reamur(celcius):\n",
    "    convert_reamur = 4 * celcius / 5\n",
    "    return convert_reamur\n",
    "\n",
    "def conv_farenheit(celcius):\n",
    "    convert_farenheit = 9 * celcius / 5 + 32\n",
    "    return convert_farenheit\n",
    "\n",
    "def main():\n",
    "    temperature = int(input('Masukan Skala Celcius: '))\n",
    "\n",
    "    print(f'Hasil Konnversi Suhu {temperature} C adalah {conv_reamur(temperature)} Reamur')\n",
    "    print(f'Hasil Konversi Suhu {temperature} C adalah {conv_farenheit(temperature)} Farenheit')\n",
    "\n",
    " \n",
    "if __name__=='__main__':\n",
    "    main()"
   ]
  },
  {
   "cell_type": "code",
   "execution_count": null,
   "id": "60bec299",
   "metadata": {},
   "outputs": [],
   "source": [
    "#BAGIAN DATABASE"
   ]
  },
  {
   "cell_type": "code",
   "execution_count": 2,
   "id": "84bf2350",
   "metadata": {},
   "outputs": [
    {
     "name": "stdout",
     "output_type": "stream",
     "text": [
      "Berhasil terhubung ke database\n"
     ]
    }
   ],
   "source": [
    "import mysql.connector\n",
    "\n",
    "db = mysql.connector.connect(\n",
    "    host=\"localhost\",\n",
    "    user=\"root\",\n",
    "    passwd=\"\"\n",
    ")\n",
    "\n",
    "if db.is_connected():\n",
    "    print(\"Berhasil terhubung ke database\")"
   ]
  },
  {
   "cell_type": "code",
   "execution_count": 3,
   "id": "43de4ca2",
   "metadata": {},
   "outputs": [
    {
     "name": "stdout",
     "output_type": "stream",
     "text": [
      "Datbase berhasil dibuat!\n"
     ]
    }
   ],
   "source": [
    "import mysql.connector\n",
    "\n",
    "db = mysql.connector.connect(\n",
    "    host=\"localhost\",\n",
    "    user=\"root\",\n",
    "    passwd=\"\"\n",
    ")\n",
    "\n",
    "cursor = db.cursor()\n",
    "cursor.execute (\"CREATE DATABASE db_Film\")\n",
    "\n",
    "print(\"Datbase berhasil dibuat!\")"
   ]
  },
  {
   "cell_type": "code",
   "execution_count": 8,
   "id": "894670fc",
   "metadata": {},
   "outputs": [
    {
     "name": "stdout",
     "output_type": "stream",
     "text": [
      "Tabel Film Berhasil Dibuat!\n"
     ]
    }
   ],
   "source": [
    "import mysql.connector\n",
    "\n",
    "db = mysql.connector.connect(\n",
    "    host=\"localhost\",\n",
    "    user=\"root\",\n",
    "    passwd=\"\",\n",
    "    database=\"db_Film\"\n",
    ")\n",
    "\n",
    "cursor = db.cursor()\n",
    "sql = \"\"\"CREATE TABLE tblFilm (\n",
    "    Id INT AUTO_INCREMENT PRIMARY KEY,\n",
    "    Judul_Film VARCHAR(255),\n",
    "    Genre VARCHAR(255),\n",
    "    Deskripsi TEXT\n",
    ")\n",
    "\"\"\"\n",
    "cursor.execute(sql)\n",
    "\n",
    "print(\"Tabel Film Berhasil Dibuat!\")\n"
   ]
  },
  {
   "cell_type": "code",
   "execution_count": null,
   "id": "c48d0dcc",
   "metadata": {},
   "outputs": [
    {
     "name": "stdout",
     "output_type": "stream",
     "text": [
      " DATABASE FILM \n",
      "1. Insert Data\n",
      "2. Update Data\n",
      "3. Delete Data\n",
      "4. Search Data\n",
      "0. Keluar\n"
     ]
    }
   ],
   "source": [
    "import mysql.connector\n",
    "db = mysql.connector.connect(\n",
    "    host=\"localhost\",\n",
    "    user=\"root\",\n",
    "    passwd=\"\",\n",
    "    database=\"db_Film\"\n",
    ")\n",
    "\n",
    "def insert_data(db):\n",
    "    Judul_Film = input(\"Masukan Judul Film : \")\n",
    "    Genre = input(\"Masukan Genre : \")\n",
    "    Deskripsi = input(\"Masukan Deskripsi : \")\n",
    "    val = (Judul_Film, Genre, Deskripsi)\n",
    "    cursor = db.cursor()\n",
    "    sql = \"INSERT INTO tblFilm (Judul_Film, Genre, Deskripsi) VALUES (%s, %s, %s)\"\n",
    "    cursor.execute(sql, val)\n",
    "    db.commit()\n",
    "    print(\"{} data berhasil disimpan\".format(cursor.rowcount))\n",
    "    \n",
    "        \n",
    "def update_data(db):\n",
    "    cursor = db.cursor()\n",
    "    Id = input (\"Masukan Id : \")\n",
    "    Judul_Film = input(\"Nama Baru : \")\n",
    "    Genre = input(\"Masukan Genre : \")\n",
    "    Deskripsi = input(\"Masukan Deskripsi : \") \n",
    "    \n",
    "    sql = \"UPDATE tblFilm SET Judul_Film=%s, Genre=%s, Deskripsi=%s WHERE Id=%s\"\n",
    "    val = (Judul_Film, Genre, Deskripsi, Id)\n",
    "    cursor.execute(sql, val)\n",
    "    db.commit()\n",
    "    print(\"{} data berhasil diubah\".format(cursor.rowcount))\n",
    "    \n",
    "def delete_data(db):\n",
    "    cursor = db.cursor()\n",
    "    Id = input(\"pilih id Film \")\n",
    "    sql = \"DELETE FROM tblFilm WHERE Id=%s\"\n",
    "    val = (Id,)\n",
    "    cursor.execute(sql, val)\n",
    "    db.commit()\n",
    "    print(\"{} data berhasil di hapus\".format(cursor.rowcount))\n",
    "    \n",
    "def search_data(db):\n",
    "    cursor = db.cursor()\n",
    "    keyword = input(\"Cari Film : \")\n",
    "    sql = \" SELECT * FROM tblFilm WHERE Judul_Film LIKE %s OR Genre LIKE %s\"\n",
    "    val = (\"%{}%\".format(keyword), \"%{}%\".format(keyword))\n",
    "    cursor.execute(sql, val)\n",
    "    results = cursor.fetchall()\n",
    "    \n",
    "    if cursor.rowcount <0:\n",
    "        print(\"Tidak ada data\")\n",
    "    else:\n",
    "        for data in results:\n",
    "            print(data)\n",
    "            \n",
    "    \n",
    "def show_menu(db):\n",
    "    print(\" DATABASE FILM \")\n",
    "    print(\"1. Insert Data\")\n",
    "    print(\"2. Update Data\")\n",
    "    print(\"3. Delete Data\")\n",
    "    print(\"4. Search Data\")\n",
    "    print(\"0. Keluar\")\n",
    "    menu = input(\"Pilih Menu \")\n",
    "\n",
    "    \n",
    "    if menu == \"1\":\n",
    "        insert_data(db)\n",
    "    elif menu == \"2\":\n",
    "        update_data(db)\n",
    "    elif menu == \"3\":\n",
    "        delete_data(db)\n",
    "    elif menu == \"4\":\n",
    "        search_data(db)\n",
    "    elif menu == \"0\":\n",
    "        exit()\n",
    "    else:\n",
    "        print(\"Menu Tidak Tersedia\")\n",
    "        \n",
    "        \n",
    "        \n",
    "if __name__== \"__main__\":\n",
    "    while(True):\n",
    "        show_menu(db)  "
   ]
  },
  {
   "cell_type": "raw",
   "id": "72b4e040",
   "metadata": {},
   "source": []
  },
  {
   "cell_type": "code",
   "execution_count": null,
   "id": "b4ebbef3",
   "metadata": {},
   "outputs": [],
   "source": []
  }
 ],
 "metadata": {
  "kernelspec": {
   "display_name": "Python 3",
   "language": "python",
   "name": "python3"
  }
 },
 "nbformat": 4,
 "nbformat_minor": 5
}
